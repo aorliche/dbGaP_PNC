{
 "cells": [
  {
   "cell_type": "code",
   "execution_count": 1,
   "id": "68268f23",
   "metadata": {},
   "outputs": [
    {
     "name": "stdout",
     "output_type": "stream",
     "text": [
      "944\n"
     ]
    }
   ],
   "source": [
    "# Read in PNC phenotype data\n",
    "\n",
    "import pickle\n",
    "\n",
    "fname = '../PNC_agesexwrat.pkl'\n",
    "\n",
    "with open(fname, 'rb') as f:\n",
    "    dct = pickle.load(f)\n",
    "\n",
    "subs_age = list(dct['age'].keys())\n",
    "subs_age = [str(subid) for subid in subs_age]\n",
    "print(len(subs_age))"
   ]
  },
  {
   "cell_type": "code",
   "execution_count": 20,
   "id": "acf99be5",
   "metadata": {},
   "outputs": [
    {
     "name": "stdout",
     "output_type": "stream",
     "text": [
      "927\n"
     ]
    }
   ],
   "source": [
    "with open('../snps_age_927_small_correct.pkl', 'rb') as f:\n",
    "    snps_feat = pickle.load(f)\n",
    "    \n",
    "print(len(snps_feat.keys()))"
   ]
  },
  {
   "cell_type": "code",
   "execution_count": 21,
   "id": "d8e7dd02",
   "metadata": {},
   "outputs": [
    {
     "name": "stdout",
     "output_type": "stream",
     "text": [
      "927\n",
      "927\n"
     ]
    }
   ],
   "source": [
    "# Predict age - should be impossible with SNPs\n",
    "\n",
    "import numpy as np\n",
    "\n",
    "x = []\n",
    "y = []\n",
    "subs = []\n",
    "\n",
    "for sub in dct['sex'].keys():\n",
    "    substr = str(sub)\n",
    "    if substr in snps_feat:\n",
    "        xc = snps_feat[substr]\n",
    "        x0 = xc == 0\n",
    "        x1 = xc == 1\n",
    "        x2 = xc == 2\n",
    "        x.append(np.concatenate([x0,x1,x2]))\n",
    "        y.append(dct['sex'][sub] == 'M')\n",
    "        subs.append(sub)\n",
    "        \n",
    "x = np.stack(x)\n",
    "y = np.array(y)\n",
    "\n",
    "# nans = np.isnan(x)\n",
    "# x[nans] = 0\n",
    "# mu = np.mean(x, axis=0, keepdims=True)\n",
    "# x = x - 1\n",
    "# x[nans] = 0\n",
    "        \n",
    "print(len(x))\n",
    "print(len(y))"
   ]
  },
  {
   "cell_type": "code",
   "execution_count": 22,
   "id": "7516b603",
   "metadata": {},
   "outputs": [
    {
     "name": "stdout",
     "output_type": "stream",
     "text": [
      "[[0.55506608 0.        ]\n",
      " [0.         0.44493392]]\n",
      "1.0\n",
      "[[0.51101322 0.        ]\n",
      " [0.         0.48898678]]\n",
      "1.0\n",
      "[[0.52863436 0.        ]\n",
      " [0.         0.47136564]]\n",
      "1.0\n",
      "[[0.5154185 0.       ]\n",
      " [0.        0.4845815]]\n",
      "1.0\n",
      "[[0.5154185 0.       ]\n",
      " [0.        0.4845815]]\n",
      "1.0\n",
      "[[0.52422907 0.        ]\n",
      " [0.         0.47577093]]\n",
      "1.0\n",
      "[[0.53744493 0.        ]\n",
      " [0.         0.46255507]]\n",
      "1.0\n",
      "[[0.47577093 0.        ]\n",
      " [0.         0.52422907]]\n",
      "1.0\n",
      "[[0.55066079 0.        ]\n",
      " [0.         0.44933921]]\n",
      "1.0\n",
      "[[0.56387665 0.        ]\n",
      " [0.         0.43612335]]\n",
      "1.0\n",
      "[[0.55506608 0.        ]\n",
      " [0.         0.44493392]]\n",
      "1.0\n",
      "[[0.57709251 0.        ]\n",
      " [0.         0.42290749]]\n",
      "1.0\n",
      "[[0.57268722 0.        ]\n",
      " [0.         0.42731278]]\n",
      "1.0\n",
      "[[0.57709251 0.        ]\n",
      " [0.         0.42290749]]\n",
      "1.0\n",
      "[[0.54185022 0.        ]\n",
      " [0.         0.45814978]]\n",
      "1.0\n",
      "[[0.55947137 0.        ]\n",
      " [0.         0.44052863]]\n",
      "1.0\n",
      "[[0.55066079 0.        ]\n",
      " [0.         0.44933921]]\n",
      "1.0\n",
      "[[0.42731278 0.        ]\n",
      " [0.         0.57268722]]\n",
      "1.0\n",
      "[[0.54625551 0.        ]\n",
      " [0.         0.45374449]]\n",
      "1.0\n",
      "[[0.51982379 0.        ]\n",
      " [0.         0.48017621]]\n",
      "1.0\n",
      "---\n",
      "1.0\n",
      "0.0\n"
     ]
    }
   ],
   "source": [
    "from sklearn.linear_model import LinearRegression\n",
    "from sklearn.linear_model import LogisticRegression\n",
    "from sklearn.metrics import confusion_matrix\n",
    "\n",
    "allrmse = []\n",
    "task = 'sex'\n",
    "bdir = f'../weights/snps/{task}'\n",
    "subset = 'small'\n",
    "\n",
    "def save(subset, i, w, trsubs, tsubs, desc):\n",
    "    fname = f'{bdir}/{subset}{i}.pkl'\n",
    "    dct = dict(w=w, trsubs=trsubs, tsubs=tsubs, desc=desc)\n",
    "    with open(fname, 'wb') as f:\n",
    "        pickle.dump(dct, f)\n",
    "\n",
    "for i in range(20):\n",
    "    idcs = np.random.permutation(len(x))\n",
    "    ntrain = 700\n",
    "\n",
    "    xtr = x[idcs[:ntrain]]\n",
    "    xt = x[idcs[ntrain:]]\n",
    "\n",
    "    ytr = y[idcs[:ntrain]]\n",
    "    yt = y[idcs[ntrain:]]\n",
    "\n",
    "#     mu = np.mean(ytr)\n",
    "#     ytr = ytr - mu\n",
    "#     yt = yt - mu\n",
    "\n",
    "    clf = LogisticRegression(max_iter=1000).fit(xtr, ytr)\n",
    "    yhat = clf.predict(xt)\n",
    "    mat = confusion_matrix(yt, yhat, normalize='all')\n",
    "    acc = np.sum(yhat == yt)/len(yt)\n",
    "    print(mat)\n",
    "\n",
    "#     rmse = np.mean((yhat-yt)**2)**0.5\n",
    "    print(acc)\n",
    "    \n",
    "    save(subset, i, clf.coef_, [subs[i] for i in idcs[:ntrain]], [subs[i] for i in idcs[ntrain:]], \n",
    "         f'{task} prediction snps {subset} set cat(xRec,xHet,xDom) acc: {acc} mat: {mat}')\n",
    "    \n",
    "    allrmse.append(acc)\n",
    "    \n",
    "allrmse = np.array(allrmse)\n",
    "print('---')\n",
    "print(np.mean(allrmse))\n",
    "print(np.std(allrmse))"
   ]
  },
  {
   "cell_type": "code",
   "execution_count": null,
   "id": "f39bfd73",
   "metadata": {},
   "outputs": [],
   "source": []
  }
 ],
 "metadata": {
  "kernelspec": {
   "display_name": "Python 3 (ipykernel)",
   "language": "python",
   "name": "python3"
  },
  "language_info": {
   "codemirror_mode": {
    "name": "ipython",
    "version": 3
   },
   "file_extension": ".py",
   "mimetype": "text/x-python",
   "name": "python",
   "nbconvert_exporter": "python",
   "pygments_lexer": "ipython3",
   "version": "3.9.2"
  }
 },
 "nbformat": 4,
 "nbformat_minor": 5
}
